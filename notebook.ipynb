{
 "cells": [
  {
   "cell_type": "code",
   "execution_count": 27,
   "metadata": {},
   "outputs": [],
   "source": [
    "import matplotlib.pyplot as plt\n",
    "import pandas as pd\n",
    "import matplotlib.colors as mc\n",
    "import colorsys"
   ]
  },
  {
   "cell_type": "code",
   "execution_count": 28,
   "metadata": {},
   "outputs": [],
   "source": [
    "def adjust_lightness(color, amount=0.5):\n",
    "    try:\n",
    "        c = mc.cnames[color]\n",
    "    except:\n",
    "        c = color\n",
    "    c = colorsys.rgb_to_hls(*mc.to_rgb(c))\n",
    "    return colorsys.hls_to_rgb(c[0], max(0, min(1, amount * c[1])), c[2])\n",
    "\n",
    "def make_plots(task_name):\n",
    "    df = pd.read_csv(f\"measurements/{task_name}.csv\", sep=';')\n",
    "    df = df.groupby(['thread_num', 'problem_size'], as_index=False).agg({'time':['mean','std']})\n",
    "    colors = {\n",
    "        1500: \"#fcba03\",\n",
    "        500: \"#33d9b2\",\n",
    "        3000: \"#34ace0\",\n",
    "        200: \"#fcba03\",\n",
    "        100: \"#ff5252\",\n",
    "    }\n",
    "    error_colors = {key: adjust_lightness(colors[key], 0.5) for key in colors}\n",
    "    problems_size = (500, 1500, 3000)\n",
    "\n",
    "    for problem_size in problems_size:\n",
    "        df_ = df[(df[\"problem_size\"]==problem_size)]\n",
    "        plt.plot(df_[\"thread_num\"], df_[\"time\"][\"mean\"], \"o--\", color=colors[problem_size], label=f\"Rozmiar problemu = {problem_size}\")\n",
    "        plt.errorbar(df_[\"thread_num\"], df_[\"time\"][\"mean\"], df_[\"time\"][\"std\"], color=error_colors[problem_size], linestyle='None', zorder=3, elinewidth=1, capsize=3)\n",
    "\n",
    "    plt.title(f\"Zależność czasu wykonania od liczby procesów\")\n",
    "    plt.xlabel(\"Liczba procesów\")\n",
    "    plt.ylabel(\"Czas wykonania [s]\")\n",
    "    plt.legend()\n",
    "    plt.tight_layout()\n",
    "    plt.savefig(f\"measurements/{task_name}_plot1.jpg\", dpi=300)\n",
    "    plt.clf()\n",
    "\n",
    "    for problem_size in problems_size:\n",
    "        df_ = df[(df[\"problem_size\"]==problem_size)]\n",
    "        plt.plot(df_[\"thread_num\"], df_[\"time\"][\"mean\"].values[0] / df_[\"time\"][\"mean\"], \"o--\", color=colors[problem_size], label=f\"Rozmiar problemu = {problem_size}\")\n",
    "\n",
    "    df_ = df[(df[\"problem_size\"]==problem_size)]\n",
    "    plt.plot(df_[\"thread_num\"], df_[\"thread_num\"], \"-\", color=\"#FFAAAA\", label=f\"Idealne przyspieszenie\")\n",
    "\n",
    "    plt.title(f\"Zależność przyspieszenia od liczby procesów\")\n",
    "    plt.xlabel(\"Liczba procesów\")\n",
    "    plt.ylabel(\"Przyspieszenie\")\n",
    "    plt.legend()\n",
    "    plt.tight_layout()\n",
    "    plt.savefig(f\"measurements/{task_name}_plot2.jpg\", dpi=300)\n",
    "    plt.clf()\n",
    "\n",
    "    for problem_size in problems_size:\n",
    "        df_ = df[(df[\"problem_size\"]==problem_size)]\n",
    "        plt.plot(df_[\"thread_num\"], (df_[\"time\"][\"mean\"].values[0] / df_[\"time\"][\"mean\"]) / df_[\"thread_num\"], \"o--\", color=colors[problem_size], label=f\"Rozmiar problemu = {problem_size}\")\n",
    "\n",
    "    df_ = df[(df[\"problem_size\"]==problem_size)]\n",
    "    plt.plot(df_[\"thread_num\"], df_[\"thread_num\"] / df_[\"thread_num\"], \"-\", color=\"#FFAAAA\", label=f\"Idealna efektywność\")\n",
    "\n",
    "    plt.title(f\"Zależność efektywności od liczby procesów\")\n",
    "    plt.xlabel(\"Liczba procesów\")\n",
    "    plt.ylabel(\"Efektywność\")\n",
    "    plt.legend()\n",
    "    plt.tight_layout()\n",
    "    plt.savefig(f\"measurements/{task_name}_plot3.jpg\", dpi=300)\n",
    "    plt.clf()"
   ]
  },
  {
   "cell_type": "code",
   "execution_count": 32,
   "metadata": {},
   "outputs": [
    {
     "data": {
      "text/plain": [
       "<Figure size 432x288 with 0 Axes>"
      ]
     },
     "metadata": {},
     "output_type": "display_data"
    }
   ],
   "source": [
    "make_plots('task1')\n",
    "make_plots('task2')\n",
    "make_plots('task3')"
   ]
  }
 ],
 "metadata": {
  "interpreter": {
   "hash": "a7505a4dc7c1e3c2aa965886b3390c19bb5610f78b675871c8d0424274e1eaab"
  },
  "kernelspec": {
   "display_name": "Python 3.9.1 64-bit",
   "language": "python",
   "name": "python3"
  },
  "language_info": {
   "codemirror_mode": {
    "name": "ipython",
    "version": 3
   },
   "file_extension": ".py",
   "mimetype": "text/x-python",
   "name": "python",
   "nbconvert_exporter": "python",
   "pygments_lexer": "ipython3",
   "version": "3.9.1"
  },
  "orig_nbformat": 4
 },
 "nbformat": 4,
 "nbformat_minor": 2
}
